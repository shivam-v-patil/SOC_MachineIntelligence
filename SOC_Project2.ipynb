{
 "cells": [
  {
   "cell_type": "code",
   "execution_count": 115,
   "id": "e55d3a59",
   "metadata": {},
   "outputs": [],
   "source": [
    "#import libraries\n",
    "import numpy as np"
   ]
  },
  {
   "cell_type": "code",
   "execution_count": 116,
   "id": "6c6fca00",
   "metadata": {},
   "outputs": [],
   "source": [
    "#define environment\n",
    "env_rows=7\n",
    "env_cols=7\n",
    "\n",
    "#3D array to hold the Q values\n",
    "Q_values=np.ones((env_rows,env_cols,4)) "
   ]
  },
  {
   "cell_type": "code",
   "execution_count": 117,
   "id": "84ca10f7",
   "metadata": {},
   "outputs": [],
   "source": [
    "#define actions\n",
    "actions = ['left', 'down', 'right', 'up']"
   ]
  },
  {
   "cell_type": "code",
   "execution_count": 118,
   "id": "525692d4",
   "metadata": {},
   "outputs": [],
   "source": [
    "#define tuples for tile types\n",
    "SuperSlippery = ([2,0],[5,5])\n",
    "NonSlippery = ([6,0],[1,2],[1,3],[1,4],[4,2],[5,4])\n",
    "Goal = ([3,3])\n",
    "Pitfalls = ([0,3],[1,1],[1,5],[3,2],[3,4],[3,6],[4,3],[5,1],[6,5])"
   ]
  },
  {
   "cell_type": "code",
   "execution_count": 119,
   "id": "738f17aa",
   "metadata": {},
   "outputs": [
    {
     "name": "stdout",
     "output_type": "stream",
     "text": [
      "[[  -1.   -1.   -1. -100.   -1.   -1.   -1.]\n",
      " [  -1. -100.   -1.   -1.   -1. -100.   -1.]\n",
      " [  -1.   -1.   -1.   -1.   -1.   -1.   -1.]\n",
      " [  -1.   -1. -100.  100. -100.   -1. -100.]\n",
      " [  -1.   -1.   -1. -100.   -1.   -1.   -1.]\n",
      " [  -1. -100.   -1.   -1.   -1.   -1.   -1.]\n",
      " [  -1.   -1.   -1.   -1.   -1. -100.   -1.]]\n"
     ]
    }
   ],
   "source": [
    "rewards = np.full((env_rows, env_cols), -1.)\n",
    "rewards[3, 3] = 100. #set the reward for the goal to 100\n",
    "rewards[0,3]=rewards[1,1]=rewards[1,5]=rewards[3,2]=rewards[3,4]=rewards[3,6]=rewards[4,3]=rewards[5,1]=rewards[6,5]=-100 # Pitfalls\n",
    "print(rewards)"
   ]
  },
  {
   "cell_type": "code",
   "execution_count": 120,
   "id": "409880de",
   "metadata": {},
   "outputs": [],
   "source": [
    "def tile_type(current_row,current_col):\n",
    "    if [current_row,current_col] in SuperSlippery :\n",
    "        return 'super_slippery_tile'\n",
    "    elif [current_row,current_col] in NonSlippery:\n",
    "        return \"non_slippery_tile\"\n",
    "    elif [current_row,current_col] in Pitfalls:\n",
    "        return 'pitfall'\n",
    "    elif [current_row,current_col] == [3,3] :\n",
    "        return 'goal'\n",
    "    return 'std_slippery_tile'"
   ]
  },
  {
   "cell_type": "code",
   "execution_count": 121,
   "id": "dca4c795",
   "metadata": {},
   "outputs": [],
   "source": [
    "def valid_starting(current_row,current_col):\n",
    "    if tile_type(current_row,current_col) == 'std_slippery_tile':\n",
    "        return True\n",
    "    else :\n",
    "        return False"
   ]
  },
  {
   "cell_type": "code",
   "execution_count": 122,
   "id": "0e94a268",
   "metadata": {},
   "outputs": [],
   "source": [
    "def start_position():\n",
    "    current_row = np.random.randint(env_rows)\n",
    "    current_col =np.random.randint(env_cols)\n",
    "    while not valid_starting(current_row,current_col):\n",
    "        current_row = np.random.randint(env_rows)\n",
    "        current_col = np.random.randint(env_cols)\n",
    "    return current_row,current_col"
   ]
  },
  {
   "cell_type": "code",
   "execution_count": 123,
   "id": "e2373fb0",
   "metadata": {},
   "outputs": [],
   "source": [
    "def intended_action(current_row, current_col, eps):\n",
    "    if np.random.random() < eps: #epsilon greedy algorithm\n",
    "        return np.argmax(Q_values[current_row, current_col])\n",
    "    else: \n",
    "        return np.random.randint(4)"
   ]
  },
  {
   "cell_type": "code",
   "execution_count": 124,
   "id": "524c8765",
   "metadata": {},
   "outputs": [],
   "source": [
    "def next_action(tile_type,intended_action):\n",
    "    if tile_type == 'std_slippery_tile':\n",
    "        return np.random.choice(3,1,[0.8,0.1,0.1])\n",
    "    elif tile_type == 'non_slippery_tile':\n",
    "        return intended_action\n",
    "    elif tile_type == 'super_slippery_tile':\n",
    "        return np.random.choice(3,1,[0.5,0.25,0.25]) "
   ]
  },
  {
   "cell_type": "code",
   "execution_count": 125,
   "id": "067e1718",
   "metadata": {},
   "outputs": [],
   "source": [
    "def next_location(current_row, current_col, action_index):\n",
    "    new_row = current_row\n",
    "    new_col = current_col\n",
    "    if actions[action_index] == 'left' and current_col > 0:\n",
    "        new_col -= 1\n",
    "    elif actions[action_index] == 'down' and current_row < env_rows - 1:\n",
    "        new_row += 1\n",
    "    elif actions[action_index] == 'right' and current_col < env_cols - 1:\n",
    "        new_col += 1\n",
    "    elif actions[action_index] == 'up' and current_row> 0:\n",
    "        new_row -= 1\n",
    "    return new_row, new_col"
   ]
  },
  {
   "cell_type": "code",
   "execution_count": 126,
   "id": "81dc63ad",
   "metadata": {},
   "outputs": [],
   "source": [
    "def terminal_state(current_row,current_col):\n",
    "    if rewards[current_row,current_col] == -1:\n",
    "        return False\n",
    "    else:\n",
    "        return True"
   ]
  },
  {
   "cell_type": "code",
   "execution_count": 127,
   "id": "48eca4ad",
   "metadata": {},
   "outputs": [],
   "source": [
    "eps = 0.9 #the percentage of time when we should take the best action (instead of a random action)\n",
    "gamma = 0.9 #discount factor for future rewards\n",
    "alpha = 0.9 #the rate at which the AI agent should learn\n",
    "\n",
    "\n",
    "for episode in range(15500):\n",
    "    row, col = start_position() #get the starting location for this episode\n",
    "    x = tile_type(row,col) \n",
    "    #continue taking actions until we reach a terminal state\n",
    "    while not terminal_state(row, col):\n",
    "        #choose action to take\n",
    "        y = intended_action(row, col, eps)\n",
    "        action = next_action(x,y).item() \n",
    "        #perform the chosen action, and transition to the next state\n",
    "        old_row, old_col = row, col #store the old row and column indexes\n",
    "        row, col = next_location(row, col, action)\n",
    "        \n",
    "        reward = rewards[row, col]\n",
    "        old_Q_value = Q_values[old_row, old_col, action]\n",
    "        T_D = reward + (gamma * np.max(Q_values[row, col])) - old_Q_value\n",
    "\n",
    "        new_Q_value = old_Q_value + (alpha * T_D)\n",
    "        Q_values[old_row, old_col, action] = new_Q_value "
   ]
  },
  {
   "cell_type": "code",
   "execution_count": 128,
   "id": "2eca23a2",
   "metadata": {},
   "outputs": [],
   "source": [
    "def shortest_path(row,col):\n",
    "    if not valid_starting(row, col):\n",
    "        return []\n",
    "    else:\n",
    "        current_row, current_col = row, col\n",
    "        shortest_path = []\n",
    "        shortest_path.append([current_row, current_col])\n",
    "        while not [current_row, current_col] == [3,3]:\n",
    "            action = next_action(tile_type(row,col),intended_action(row,col,1)).item()\n",
    "            current_row, current_col = next_location(current_row, current_col, action)\n",
    "            shortest_path.append([current_row, current_col])\n",
    "        return shortest_path"
   ]
  },
  {
   "cell_type": "code",
   "execution_count": null,
   "id": "142fa65b",
   "metadata": {},
   "outputs": [],
   "source": [
    "shortest_path(0,0)"
   ]
  },
  {
   "cell_type": "code",
   "execution_count": null,
   "id": "c01ca55c",
   "metadata": {},
   "outputs": [],
   "source": []
  }
 ],
 "metadata": {
  "kernelspec": {
   "display_name": "Python 3 (ipykernel)",
   "language": "python",
   "name": "python3"
  },
  "language_info": {
   "codemirror_mode": {
    "name": "ipython",
    "version": 3
   },
   "file_extension": ".py",
   "mimetype": "text/x-python",
   "name": "python",
   "nbconvert_exporter": "python",
   "pygments_lexer": "ipython3",
   "version": "3.9.7"
  }
 },
 "nbformat": 4,
 "nbformat_minor": 5
}
